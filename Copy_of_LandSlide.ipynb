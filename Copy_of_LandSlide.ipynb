{
  "nbformat": 4,
  "nbformat_minor": 0,
  "metadata": {
    "colab": {
      "provenance": []
    },
    "kernelspec": {
      "name": "python3",
      "display_name": "Python 3"
    },
    "language_info": {
      "name": "python"
    }
  },
  "cells": [
    {
      "cell_type": "markdown",
      "source": [
        "## Importing the libraries"
      ],
      "metadata": {
        "id": "Ve6g9aWWwlbD"
      }
    },
    {
      "cell_type": "code",
      "execution_count": null,
      "metadata": {
        "id": "4a41kCAxwhbK"
      },
      "outputs": [],
      "source": [
        "import numpy as np\n",
        "import matplotlib.pyplot as plt\n",
        "import pandas as pd"
      ]
    },
    {
      "cell_type": "markdown",
      "source": [
        "##Importing the dataset "
      ],
      "metadata": {
        "id": "XAHovqWUwr72"
      }
    },
    {
      "cell_type": "code",
      "source": [
        "df = pd.read_csv('/content/drive/MyDrive/LANDSLIDE/Merged_World_LandslideData.csv')\n",
        "df.size"
      ],
      "metadata": {
        "id": "ogR7ZQ-zwuil",
        "colab": {
          "base_uri": "https://localhost:8080/"
        },
        "outputId": "ec2dcaef-abdd-4552-d9f8-b7f790d6ab7d"
      },
      "execution_count": null,
      "outputs": [
        {
          "output_type": "execute_result",
          "data": {
            "text/plain": [
              "755706"
            ]
          },
          "metadata": {},
          "execution_count": 48
        }
      ]
    },
    {
      "cell_type": "markdown",
      "source": [
        "##Taking care of missing value"
      ],
      "metadata": {
        "id": "3TYf8Fz76vjM"
      }
    },
    {
      "cell_type": "code",
      "source": [
        "df.dropna(inplace=True)"
      ],
      "metadata": {
        "id": "sDnk8xea5yWr"
      },
      "execution_count": null,
      "outputs": []
    },
    {
      "cell_type": "code",
      "source": [
        "df.head()"
      ],
      "metadata": {
        "colab": {
          "base_uri": "https://localhost:8080/",
          "height": 317
        },
        "id": "LbP3S4dU1bjV",
        "outputId": "4f9e4a8b-5ad3-4fe4-dc4c-68265d9a5f75"
      },
      "execution_count": null,
      "outputs": [
        {
          "output_type": "execute_result",
          "data": {
            "text/plain": [
              "   Index  landslide_category  landslide_size  fatality_count  Latitude  \\\n",
              "0   1858                   7               2               0     16.92   \n",
              "1   1141                   6               2               4     30.38   \n",
              "4     55                   6               1               0     42.97   \n",
              "5   4000                   6               2               2     37.75   \n",
              "6   5609                   7               3               0     47.27   \n",
              "\n",
              "   Longitude  temp-2  temp-1  temp-0  maxt-2  ...  avgslope  LC_Type1_mean  \\\n",
              "0      73.59    26.3    26.5    26.2    27.7  ...    27.875       9.000000   \n",
              "1      78.09    26.7    27.2    25.8    28.1  ...    81.375       9.000000   \n",
              "4    -124.01    11.8     8.3     7.8    14.7  ...    88.875       1.000000   \n",
              "5     -25.20    14.0    14.1    15.8    17.0  ...   167.000       7.058824   \n",
              "6    -122.26    11.4    11.3    10.6    14.8  ...    40.000       6.764706   \n",
              "\n",
              "   LST_Day_1km_mean  NDVI_mean  NDWI_mean     aspect  elevation  \\\n",
              "0       15585.75010   0.276409   0.076935   85.79104         68   \n",
              "1       15080.14281   0.256626   0.161844  240.09620        828   \n",
              "4       14795.41238   0.490961   0.363601  173.99826         75   \n",
              "5       14609.53463   0.396181   0.306116   89.37942         68   \n",
              "6       14744.06481   0.352804   0.292128  110.89202         40   \n",
              "\n",
              "   precipitation_sum      slope  landslide_trigger  \n",
              "0        76083.62956  12.437977                  9  \n",
              "1        49711.02632   3.715572                  4  \n",
              "4        47384.80481  11.947599                  4  \n",
              "5        20904.96219  56.214066                 12  \n",
              "6        28623.51198  22.222166                 12  \n",
              "\n",
              "[5 rows x 114 columns]"
            ],
            "text/html": [
              "\n",
              "  <div id=\"df-f2938ac0-c22a-4099-a4f7-828586fc8c3f\">\n",
              "    <div class=\"colab-df-container\">\n",
              "      <div>\n",
              "<style scoped>\n",
              "    .dataframe tbody tr th:only-of-type {\n",
              "        vertical-align: middle;\n",
              "    }\n",
              "\n",
              "    .dataframe tbody tr th {\n",
              "        vertical-align: top;\n",
              "    }\n",
              "\n",
              "    .dataframe thead th {\n",
              "        text-align: right;\n",
              "    }\n",
              "</style>\n",
              "<table border=\"1\" class=\"dataframe\">\n",
              "  <thead>\n",
              "    <tr style=\"text-align: right;\">\n",
              "      <th></th>\n",
              "      <th>Index</th>\n",
              "      <th>landslide_category</th>\n",
              "      <th>landslide_size</th>\n",
              "      <th>fatality_count</th>\n",
              "      <th>Latitude</th>\n",
              "      <th>Longitude</th>\n",
              "      <th>temp-2</th>\n",
              "      <th>temp-1</th>\n",
              "      <th>temp-0</th>\n",
              "      <th>maxt-2</th>\n",
              "      <th>...</th>\n",
              "      <th>avgslope</th>\n",
              "      <th>LC_Type1_mean</th>\n",
              "      <th>LST_Day_1km_mean</th>\n",
              "      <th>NDVI_mean</th>\n",
              "      <th>NDWI_mean</th>\n",
              "      <th>aspect</th>\n",
              "      <th>elevation</th>\n",
              "      <th>precipitation_sum</th>\n",
              "      <th>slope</th>\n",
              "      <th>landslide_trigger</th>\n",
              "    </tr>\n",
              "  </thead>\n",
              "  <tbody>\n",
              "    <tr>\n",
              "      <th>0</th>\n",
              "      <td>1858</td>\n",
              "      <td>7</td>\n",
              "      <td>2</td>\n",
              "      <td>0</td>\n",
              "      <td>16.92</td>\n",
              "      <td>73.59</td>\n",
              "      <td>26.3</td>\n",
              "      <td>26.5</td>\n",
              "      <td>26.2</td>\n",
              "      <td>27.7</td>\n",
              "      <td>...</td>\n",
              "      <td>27.875</td>\n",
              "      <td>9.000000</td>\n",
              "      <td>15585.75010</td>\n",
              "      <td>0.276409</td>\n",
              "      <td>0.076935</td>\n",
              "      <td>85.79104</td>\n",
              "      <td>68</td>\n",
              "      <td>76083.62956</td>\n",
              "      <td>12.437977</td>\n",
              "      <td>9</td>\n",
              "    </tr>\n",
              "    <tr>\n",
              "      <th>1</th>\n",
              "      <td>1141</td>\n",
              "      <td>6</td>\n",
              "      <td>2</td>\n",
              "      <td>4</td>\n",
              "      <td>30.38</td>\n",
              "      <td>78.09</td>\n",
              "      <td>26.7</td>\n",
              "      <td>27.2</td>\n",
              "      <td>25.8</td>\n",
              "      <td>28.1</td>\n",
              "      <td>...</td>\n",
              "      <td>81.375</td>\n",
              "      <td>9.000000</td>\n",
              "      <td>15080.14281</td>\n",
              "      <td>0.256626</td>\n",
              "      <td>0.161844</td>\n",
              "      <td>240.09620</td>\n",
              "      <td>828</td>\n",
              "      <td>49711.02632</td>\n",
              "      <td>3.715572</td>\n",
              "      <td>4</td>\n",
              "    </tr>\n",
              "    <tr>\n",
              "      <th>4</th>\n",
              "      <td>55</td>\n",
              "      <td>6</td>\n",
              "      <td>1</td>\n",
              "      <td>0</td>\n",
              "      <td>42.97</td>\n",
              "      <td>-124.01</td>\n",
              "      <td>11.8</td>\n",
              "      <td>8.3</td>\n",
              "      <td>7.8</td>\n",
              "      <td>14.7</td>\n",
              "      <td>...</td>\n",
              "      <td>88.875</td>\n",
              "      <td>1.000000</td>\n",
              "      <td>14795.41238</td>\n",
              "      <td>0.490961</td>\n",
              "      <td>0.363601</td>\n",
              "      <td>173.99826</td>\n",
              "      <td>75</td>\n",
              "      <td>47384.80481</td>\n",
              "      <td>11.947599</td>\n",
              "      <td>4</td>\n",
              "    </tr>\n",
              "    <tr>\n",
              "      <th>5</th>\n",
              "      <td>4000</td>\n",
              "      <td>6</td>\n",
              "      <td>2</td>\n",
              "      <td>2</td>\n",
              "      <td>37.75</td>\n",
              "      <td>-25.20</td>\n",
              "      <td>14.0</td>\n",
              "      <td>14.1</td>\n",
              "      <td>15.8</td>\n",
              "      <td>17.0</td>\n",
              "      <td>...</td>\n",
              "      <td>167.000</td>\n",
              "      <td>7.058824</td>\n",
              "      <td>14609.53463</td>\n",
              "      <td>0.396181</td>\n",
              "      <td>0.306116</td>\n",
              "      <td>89.37942</td>\n",
              "      <td>68</td>\n",
              "      <td>20904.96219</td>\n",
              "      <td>56.214066</td>\n",
              "      <td>12</td>\n",
              "    </tr>\n",
              "    <tr>\n",
              "      <th>6</th>\n",
              "      <td>5609</td>\n",
              "      <td>7</td>\n",
              "      <td>3</td>\n",
              "      <td>0</td>\n",
              "      <td>47.27</td>\n",
              "      <td>-122.26</td>\n",
              "      <td>11.4</td>\n",
              "      <td>11.3</td>\n",
              "      <td>10.6</td>\n",
              "      <td>14.8</td>\n",
              "      <td>...</td>\n",
              "      <td>40.000</td>\n",
              "      <td>6.764706</td>\n",
              "      <td>14744.06481</td>\n",
              "      <td>0.352804</td>\n",
              "      <td>0.292128</td>\n",
              "      <td>110.89202</td>\n",
              "      <td>40</td>\n",
              "      <td>28623.51198</td>\n",
              "      <td>22.222166</td>\n",
              "      <td>12</td>\n",
              "    </tr>\n",
              "  </tbody>\n",
              "</table>\n",
              "<p>5 rows × 114 columns</p>\n",
              "</div>\n",
              "      <button class=\"colab-df-convert\" onclick=\"convertToInteractive('df-f2938ac0-c22a-4099-a4f7-828586fc8c3f')\"\n",
              "              title=\"Convert this dataframe to an interactive table.\"\n",
              "              style=\"display:none;\">\n",
              "        \n",
              "  <svg xmlns=\"http://www.w3.org/2000/svg\" height=\"24px\"viewBox=\"0 0 24 24\"\n",
              "       width=\"24px\">\n",
              "    <path d=\"M0 0h24v24H0V0z\" fill=\"none\"/>\n",
              "    <path d=\"M18.56 5.44l.94 2.06.94-2.06 2.06-.94-2.06-.94-.94-2.06-.94 2.06-2.06.94zm-11 1L8.5 8.5l.94-2.06 2.06-.94-2.06-.94L8.5 2.5l-.94 2.06-2.06.94zm10 10l.94 2.06.94-2.06 2.06-.94-2.06-.94-.94-2.06-.94 2.06-2.06.94z\"/><path d=\"M17.41 7.96l-1.37-1.37c-.4-.4-.92-.59-1.43-.59-.52 0-1.04.2-1.43.59L10.3 9.45l-7.72 7.72c-.78.78-.78 2.05 0 2.83L4 21.41c.39.39.9.59 1.41.59.51 0 1.02-.2 1.41-.59l7.78-7.78 2.81-2.81c.8-.78.8-2.07 0-2.86zM5.41 20L4 18.59l7.72-7.72 1.47 1.35L5.41 20z\"/>\n",
              "  </svg>\n",
              "      </button>\n",
              "      \n",
              "  <style>\n",
              "    .colab-df-container {\n",
              "      display:flex;\n",
              "      flex-wrap:wrap;\n",
              "      gap: 12px;\n",
              "    }\n",
              "\n",
              "    .colab-df-convert {\n",
              "      background-color: #E8F0FE;\n",
              "      border: none;\n",
              "      border-radius: 50%;\n",
              "      cursor: pointer;\n",
              "      display: none;\n",
              "      fill: #1967D2;\n",
              "      height: 32px;\n",
              "      padding: 0 0 0 0;\n",
              "      width: 32px;\n",
              "    }\n",
              "\n",
              "    .colab-df-convert:hover {\n",
              "      background-color: #E2EBFA;\n",
              "      box-shadow: 0px 1px 2px rgba(60, 64, 67, 0.3), 0px 1px 3px 1px rgba(60, 64, 67, 0.15);\n",
              "      fill: #174EA6;\n",
              "    }\n",
              "\n",
              "    [theme=dark] .colab-df-convert {\n",
              "      background-color: #3B4455;\n",
              "      fill: #D2E3FC;\n",
              "    }\n",
              "\n",
              "    [theme=dark] .colab-df-convert:hover {\n",
              "      background-color: #434B5C;\n",
              "      box-shadow: 0px 1px 3px 1px rgba(0, 0, 0, 0.15);\n",
              "      filter: drop-shadow(0px 1px 2px rgba(0, 0, 0, 0.3));\n",
              "      fill: #FFFFFF;\n",
              "    }\n",
              "  </style>\n",
              "\n",
              "      <script>\n",
              "        const buttonEl =\n",
              "          document.querySelector('#df-f2938ac0-c22a-4099-a4f7-828586fc8c3f button.colab-df-convert');\n",
              "        buttonEl.style.display =\n",
              "          google.colab.kernel.accessAllowed ? 'block' : 'none';\n",
              "\n",
              "        async function convertToInteractive(key) {\n",
              "          const element = document.querySelector('#df-f2938ac0-c22a-4099-a4f7-828586fc8c3f');\n",
              "          const dataTable =\n",
              "            await google.colab.kernel.invokeFunction('convertToInteractive',\n",
              "                                                     [key], {});\n",
              "          if (!dataTable) return;\n",
              "\n",
              "          const docLinkHtml = 'Like what you see? Visit the ' +\n",
              "            '<a target=\"_blank\" href=https://colab.research.google.com/notebooks/data_table.ipynb>data table notebook</a>'\n",
              "            + ' to learn more about interactive tables.';\n",
              "          element.innerHTML = '';\n",
              "          dataTable['output_type'] = 'display_data';\n",
              "          await google.colab.output.renderOutput(dataTable, element);\n",
              "          const docLink = document.createElement('div');\n",
              "          docLink.innerHTML = docLinkHtml;\n",
              "          element.appendChild(docLink);\n",
              "        }\n",
              "      </script>\n",
              "    </div>\n",
              "  </div>\n",
              "  "
            ]
          },
          "metadata": {},
          "execution_count": 50
        }
      ]
    },
    {
      "cell_type": "code",
      "source": [
        "df.size"
      ],
      "metadata": {
        "colab": {
          "base_uri": "https://localhost:8080/"
        },
        "id": "Dz2mMReY5PTc",
        "outputId": "ffcfffaa-6556-476c-ef56-c2bad357e927"
      },
      "execution_count": null,
      "outputs": [
        {
          "output_type": "execute_result",
          "data": {
            "text/plain": [
              "499662"
            ]
          },
          "metadata": {},
          "execution_count": 51
        }
      ]
    },
    {
      "cell_type": "code",
      "source": [
        "x = df.iloc[:,1:-1].values\n",
        "y= df.iloc[:,-1].values"
      ],
      "metadata": {
        "id": "dEYWEKm06Fdu"
      },
      "execution_count": null,
      "outputs": []
    },
    {
      "cell_type": "code",
      "source": [
        "print(x)"
      ],
      "metadata": {
        "colab": {
          "base_uri": "https://localhost:8080/"
        },
        "id": "rZ1s7xnP7R9k",
        "outputId": "04298e98-151d-46ec-c4ba-48b8e44b079c"
      },
      "execution_count": null,
      "outputs": [
        {
          "output_type": "stream",
          "name": "stdout",
          "text": [
            "[[7.00000000e+00 2.00000000e+00 0.00000000e+00 ... 6.80000000e+01\n",
            "  7.60836296e+04 1.24379770e+01]\n",
            " [6.00000000e+00 2.00000000e+00 4.00000000e+00 ... 8.28000000e+02\n",
            "  4.97110263e+04 3.71557240e+00]\n",
            " [6.00000000e+00 1.00000000e+00 0.00000000e+00 ... 7.50000000e+01\n",
            "  4.73848048e+04 1.19475990e+01]\n",
            " ...\n",
            " [7.00000000e+00 3.00000000e+00 0.00000000e+00 ... 2.35000000e+02\n",
            "  3.16836293e+04 1.38575620e+01]\n",
            " [6.00000000e+00 2.00000000e+00 0.00000000e+00 ... 1.40000000e+01\n",
            "  8.18185791e+04 8.16955600e+00]\n",
            " [7.00000000e+00 2.00000000e+00 0.00000000e+00 ... 1.27000000e+02\n",
            "  3.59572674e+04 9.35244200e+00]]\n"
          ]
        }
      ]
    },
    {
      "cell_type": "code",
      "source": [
        "print(y)"
      ],
      "metadata": {
        "colab": {
          "base_uri": "https://localhost:8080/"
        },
        "id": "p0Ab5_X99k0r",
        "outputId": "b51cabb7-26a5-4f7a-b0d5-cf9636484845"
      },
      "execution_count": null,
      "outputs": [
        {
          "output_type": "stream",
          "name": "stdout",
          "text": [
            "[ 9  4  4 ... 12  2  4]\n"
          ]
        }
      ]
    },
    {
      "cell_type": "markdown",
      "source": [
        "## Splitting the dataset into the Training set and Test set"
      ],
      "metadata": {
        "id": "ItKQ-24Q9kFU"
      }
    },
    {
      "cell_type": "code",
      "source": [
        "from sklearn.model_selection import train_test_split\n",
        "x_train,x_test,y_train,y_test = train_test_split(x,y,test_size = 0.33,random_state=0)"
      ],
      "metadata": {
        "id": "UP4h1DE_-QMy"
      },
      "execution_count": null,
      "outputs": []
    },
    {
      "cell_type": "code",
      "source": [
        "print(x_train)"
      ],
      "metadata": {
        "colab": {
          "base_uri": "https://localhost:8080/"
        },
        "id": "5m789z7X-fWU",
        "outputId": "2239f4a8-490c-48b8-9857-d5d53d607407"
      },
      "execution_count": null,
      "outputs": [
        {
          "output_type": "stream",
          "name": "stdout",
          "text": [
            "[[6.00000000e+00 2.00000000e+00 0.00000000e+00 ... 1.36000000e+02\n",
            "  3.05342236e+04 3.13543850e+01]\n",
            " [6.00000000e+00 2.00000000e+00 0.00000000e+00 ... 3.05000000e+02\n",
            "  8.56788848e+04 1.02771210e+01]\n",
            " [6.00000000e+00 1.00000000e+00 7.00000000e+00 ... 9.48000000e+02\n",
            "  5.24453470e+04 1.58913010e+01]\n",
            " ...\n",
            " [1.00000000e+00 2.00000000e+00 0.00000000e+00 ... 8.80000000e+01\n",
            "  3.36492106e+04 1.89168360e+01]\n",
            " [7.00000000e+00 2.00000000e+00 0.00000000e+00 ... 2.24000000e+03\n",
            "  1.45897010e+04 9.37841900e+00]\n",
            " [6.00000000e+00 2.00000000e+00 0.00000000e+00 ... 1.20900000e+03\n",
            "  6.34248120e+04 1.72082480e+01]]\n"
          ]
        }
      ]
    },
    {
      "cell_type": "code",
      "source": [
        "print(x_test)"
      ],
      "metadata": {
        "colab": {
          "base_uri": "https://localhost:8080/"
        },
        "id": "HcZhlTrw-fRM",
        "outputId": "46131ccb-31e0-4965-cdd3-2fe977d11483"
      },
      "execution_count": null,
      "outputs": [
        {
          "output_type": "stream",
          "name": "stdout",
          "text": [
            "[[6.00000000e+00 3.00000000e+00 0.00000000e+00 ... 7.00000000e+01\n",
            "  2.74632876e+04 4.41247560e+01]\n",
            " [1.00000000e+01 3.00000000e+00 0.00000000e+00 ... 2.35000000e+02\n",
            "  2.85137055e+04 2.11423470e+01]\n",
            " [6.00000000e+00 2.00000000e+00 6.00000000e+00 ... 2.00000000e+00\n",
            "  1.08521640e+04 2.66325200e+00]\n",
            " ...\n",
            " [7.00000000e+00 3.00000000e+00 0.00000000e+00 ... 1.16100000e+03\n",
            "  3.63607530e+04 7.37886050e+00]\n",
            " [6.00000000e+00 2.00000000e+00 0.00000000e+00 ... 1.56900000e+03\n",
            "  3.87091781e+04 1.14854470e+01]\n",
            " [6.00000000e+00 2.00000000e+00 0.00000000e+00 ... 1.55900000e+03\n",
            "  8.09123677e+04 3.97238920e+01]]\n"
          ]
        }
      ]
    },
    {
      "cell_type": "code",
      "source": [
        "print(y_train)"
      ],
      "metadata": {
        "colab": {
          "base_uri": "https://localhost:8080/"
        },
        "id": "zFPA5WvI-fJz",
        "outputId": "adad1d43-0330-4cd0-e03a-1508234c884b"
      },
      "execution_count": null,
      "outputs": [
        {
          "output_type": "stream",
          "name": "stdout",
          "text": [
            "[ 4 12 12 ... 14  4  4]\n"
          ]
        }
      ]
    },
    {
      "cell_type": "code",
      "source": [
        "print(y_test)"
      ],
      "metadata": {
        "colab": {
          "base_uri": "https://localhost:8080/"
        },
        "id": "a0S1ZkjX-e1u",
        "outputId": "7561716c-8933-4ec4-8764-344bd29e6adf"
      },
      "execution_count": null,
      "outputs": [
        {
          "output_type": "stream",
          "name": "stdout",
          "text": [
            "[12 15  4 ...  4 12 14]\n"
          ]
        }
      ]
    },
    {
      "cell_type": "markdown",
      "source": [
        "## Feature Scaling"
      ],
      "metadata": {
        "id": "hPsh6a6H_Iw4"
      }
    },
    {
      "cell_type": "code",
      "source": [
        "from sklearn.preprocessing import StandardScaler\n",
        "sc = StandardScaler()\n",
        "x_train = sc.fit_transform(x_train)\n",
        "x_test = sc.transform(x_test)"
      ],
      "metadata": {
        "id": "fgQ5D187_KPS"
      },
      "execution_count": null,
      "outputs": []
    },
    {
      "cell_type": "code",
      "source": [
        "print(x_train)"
      ],
      "metadata": {
        "colab": {
          "base_uri": "https://localhost:8080/"
        },
        "id": "TvmsvQ8-APUk",
        "outputId": "956970d6-ed1f-4f8b-bf04-9337fd794979"
      },
      "execution_count": null,
      "outputs": [
        {
          "output_type": "stream",
          "name": "stdout",
          "text": [
            "[[-0.25816097 -0.47842176 -0.12862931 ... -0.70894797 -0.56090323\n",
            "   1.3676867 ]\n",
            " [-0.25816097 -0.47842176 -0.12862931 ... -0.46727045  1.51093028\n",
            "  -0.4626406 ]\n",
            " [-0.25816097 -2.27006243  0.54421099 ...  0.45224817  0.26231698\n",
            "   0.02488885]\n",
            " ...\n",
            " [-3.49730891 -0.47842176 -0.12862931 ... -0.77759011 -0.44387043\n",
            "   0.28762311]\n",
            " [ 0.38966861 -0.47842176 -0.12862931 ...  2.29986567 -1.159953\n",
            "  -0.54068293]\n",
            " [-0.25816097 -0.47842176 -0.12862931 ...  0.82548978  0.67482516\n",
            "   0.13925114]]\n"
          ]
        }
      ]
    },
    {
      "cell_type": "code",
      "source": [
        "print(x_test)"
      ],
      "metadata": {
        "colab": {
          "base_uri": "https://localhost:8080/"
        },
        "id": "lDmZmYwVAQXH",
        "outputId": "360835ea-bb73-407b-a907-e36f3f1d2ad9"
      },
      "execution_count": null,
      "outputs": [
        {
          "output_type": "stream",
          "name": "stdout",
          "text": [
            "[[-0.25816097  1.31321891 -0.12862931 ... -0.80333091 -0.67628101\n",
            "   2.47665221]\n",
            " [ 2.33315738  1.31321891 -0.12862931 ... -0.56737357 -0.63681588\n",
            "   0.48088413]\n",
            " [-0.25816097 -0.47842176  0.44809095 ... -0.90057394 -1.30037556\n",
            "  -1.12382092]\n",
            " ...\n",
            " [ 0.38966861  1.31321891 -0.12862931 ...  0.75684765 -0.34199539\n",
            "  -0.71432247]\n",
            " [-0.25816097 -0.47842176 -0.12862931 ...  1.34030581 -0.25376299\n",
            "  -0.35771085]\n",
            " [-0.25816097 -0.47842176 -0.12862931 ...  1.32600536  1.33184804\n",
            "   2.09448583]]\n"
          ]
        }
      ]
    },
    {
      "cell_type": "markdown",
      "source": [
        "## Training the Logistic Regression model on the Training set"
      ],
      "metadata": {
        "id": "KglIYDPsAnzv"
      }
    },
    {
      "cell_type": "code",
      "source": [
        "from sklearn.ensemble import RandomForestClassifier\n",
        "classifier = RandomForestClassifier(n_estimators = 30, criterion = 'entropy', random_state = 0)\n",
        "classifier.fit(x_train, y_train)"
      ],
      "metadata": {
        "colab": {
          "base_uri": "https://localhost:8080/",
          "height": 74
        },
        "id": "4jqLvkI_ATM5",
        "outputId": "ba7cabcf-0b71-4149-8e7d-33853f15b4bb"
      },
      "execution_count": null,
      "outputs": [
        {
          "output_type": "execute_result",
          "data": {
            "text/plain": [
              "RandomForestClassifier(criterion='entropy', n_estimators=30, random_state=0)"
            ],
            "text/html": [
              "<style>#sk-container-id-6 {color: black;background-color: white;}#sk-container-id-6 pre{padding: 0;}#sk-container-id-6 div.sk-toggleable {background-color: white;}#sk-container-id-6 label.sk-toggleable__label {cursor: pointer;display: block;width: 100%;margin-bottom: 0;padding: 0.3em;box-sizing: border-box;text-align: center;}#sk-container-id-6 label.sk-toggleable__label-arrow:before {content: \"▸\";float: left;margin-right: 0.25em;color: #696969;}#sk-container-id-6 label.sk-toggleable__label-arrow:hover:before {color: black;}#sk-container-id-6 div.sk-estimator:hover label.sk-toggleable__label-arrow:before {color: black;}#sk-container-id-6 div.sk-toggleable__content {max-height: 0;max-width: 0;overflow: hidden;text-align: left;background-color: #f0f8ff;}#sk-container-id-6 div.sk-toggleable__content pre {margin: 0.2em;color: black;border-radius: 0.25em;background-color: #f0f8ff;}#sk-container-id-6 input.sk-toggleable__control:checked~div.sk-toggleable__content {max-height: 200px;max-width: 100%;overflow: auto;}#sk-container-id-6 input.sk-toggleable__control:checked~label.sk-toggleable__label-arrow:before {content: \"▾\";}#sk-container-id-6 div.sk-estimator input.sk-toggleable__control:checked~label.sk-toggleable__label {background-color: #d4ebff;}#sk-container-id-6 div.sk-label input.sk-toggleable__control:checked~label.sk-toggleable__label {background-color: #d4ebff;}#sk-container-id-6 input.sk-hidden--visually {border: 0;clip: rect(1px 1px 1px 1px);clip: rect(1px, 1px, 1px, 1px);height: 1px;margin: -1px;overflow: hidden;padding: 0;position: absolute;width: 1px;}#sk-container-id-6 div.sk-estimator {font-family: monospace;background-color: #f0f8ff;border: 1px dotted black;border-radius: 0.25em;box-sizing: border-box;margin-bottom: 0.5em;}#sk-container-id-6 div.sk-estimator:hover {background-color: #d4ebff;}#sk-container-id-6 div.sk-parallel-item::after {content: \"\";width: 100%;border-bottom: 1px solid gray;flex-grow: 1;}#sk-container-id-6 div.sk-label:hover label.sk-toggleable__label {background-color: #d4ebff;}#sk-container-id-6 div.sk-serial::before {content: \"\";position: absolute;border-left: 1px solid gray;box-sizing: border-box;top: 0;bottom: 0;left: 50%;z-index: 0;}#sk-container-id-6 div.sk-serial {display: flex;flex-direction: column;align-items: center;background-color: white;padding-right: 0.2em;padding-left: 0.2em;position: relative;}#sk-container-id-6 div.sk-item {position: relative;z-index: 1;}#sk-container-id-6 div.sk-parallel {display: flex;align-items: stretch;justify-content: center;background-color: white;position: relative;}#sk-container-id-6 div.sk-item::before, #sk-container-id-6 div.sk-parallel-item::before {content: \"\";position: absolute;border-left: 1px solid gray;box-sizing: border-box;top: 0;bottom: 0;left: 50%;z-index: -1;}#sk-container-id-6 div.sk-parallel-item {display: flex;flex-direction: column;z-index: 1;position: relative;background-color: white;}#sk-container-id-6 div.sk-parallel-item:first-child::after {align-self: flex-end;width: 50%;}#sk-container-id-6 div.sk-parallel-item:last-child::after {align-self: flex-start;width: 50%;}#sk-container-id-6 div.sk-parallel-item:only-child::after {width: 0;}#sk-container-id-6 div.sk-dashed-wrapped {border: 1px dashed gray;margin: 0 0.4em 0.5em 0.4em;box-sizing: border-box;padding-bottom: 0.4em;background-color: white;}#sk-container-id-6 div.sk-label label {font-family: monospace;font-weight: bold;display: inline-block;line-height: 1.2em;}#sk-container-id-6 div.sk-label-container {text-align: center;}#sk-container-id-6 div.sk-container {/* jupyter's `normalize.less` sets `[hidden] { display: none; }` but bootstrap.min.css set `[hidden] { display: none !important; }` so we also need the `!important` here to be able to override the default hidden behavior on the sphinx rendered scikit-learn.org. See: https://github.com/scikit-learn/scikit-learn/issues/21755 */display: inline-block !important;position: relative;}#sk-container-id-6 div.sk-text-repr-fallback {display: none;}</style><div id=\"sk-container-id-6\" class=\"sk-top-container\"><div class=\"sk-text-repr-fallback\"><pre>RandomForestClassifier(criterion=&#x27;entropy&#x27;, n_estimators=30, random_state=0)</pre><b>In a Jupyter environment, please rerun this cell to show the HTML representation or trust the notebook. <br />On GitHub, the HTML representation is unable to render, please try loading this page with nbviewer.org.</b></div><div class=\"sk-container\" hidden><div class=\"sk-item\"><div class=\"sk-estimator sk-toggleable\"><input class=\"sk-toggleable__control sk-hidden--visually\" id=\"sk-estimator-id-6\" type=\"checkbox\" checked><label for=\"sk-estimator-id-6\" class=\"sk-toggleable__label sk-toggleable__label-arrow\">RandomForestClassifier</label><div class=\"sk-toggleable__content\"><pre>RandomForestClassifier(criterion=&#x27;entropy&#x27;, n_estimators=30, random_state=0)</pre></div></div></div></div></div>"
            ]
          },
          "metadata": {},
          "execution_count": 80
        }
      ]
    },
    {
      "cell_type": "markdown",
      "source": [
        "## Predicting the Test set results"
      ],
      "metadata": {
        "id": "vgqxylThEPR3"
      }
    },
    {
      "cell_type": "code",
      "source": [
        "y_pred = classifier.predict(x_test)\n",
        "print(np.concatenate((y_pred.reshape(len(y_pred),1), y_test.reshape(len(y_test),1)),1))"
      ],
      "metadata": {
        "colab": {
          "base_uri": "https://localhost:8080/"
        },
        "id": "OB0-XQV5Av3r",
        "outputId": "abcfc685-e359-4371-d006-2f60c3273556"
      },
      "execution_count": null,
      "outputs": [
        {
          "output_type": "stream",
          "name": "stdout",
          "text": [
            "[[12 12]\n",
            " [12 15]\n",
            " [ 4  4]\n",
            " ...\n",
            " [ 4  4]\n",
            " [ 4 12]\n",
            " [14 14]]\n"
          ]
        }
      ]
    },
    {
      "cell_type": "markdown",
      "source": [
        "##Making the Confusion Matrix"
      ],
      "metadata": {
        "id": "g7NdXJISEhLS"
      }
    },
    {
      "cell_type": "code",
      "source": [
        "from sklearn.metrics import confusion_matrix, accuracy_score\n",
        "cm = confusion_matrix(y_test, y_pred)\n",
        "print(cm)\n",
        "accuracy_score(y_test, y_pred)"
      ],
      "metadata": {
        "colab": {
          "base_uri": "https://localhost:8080/"
        },
        "id": "KPO5Upg9EjI-",
        "outputId": "d5a34a5b-3b8a-4efb-aeea-967c28cfa89c"
      },
      "execution_count": null,
      "outputs": [
        {
          "output_type": "stream",
          "name": "stdout",
          "text": [
            "[[  0   0   0   3   0   0   0   0   0   0   2   0   0   0]\n",
            " [  0  19   0  45   0   0   0   0   0   0  10   0   1   0]\n",
            " [  0   0   0   2   0   0   0   0   0   0   0   0   0   0]\n",
            " [  0   4   0 662   0   0   0   0   0   0  46   0   5   9]\n",
            " [  0   0   0   4   0   0   0   0   0   0   1   0   0   0]\n",
            " [  0   0   0   2   0   1   0   0   0   0   3   0   0   0]\n",
            " [  0   0   0   2   0   0   0   0   0   0   2   0   0   2]\n",
            " [  0   0   0   8   0   0   0   3   0   0   2   0   0   0]\n",
            " [  0   0   0  15   0   0   0   0   5   0   2   0   1   0]\n",
            " [  0   0   0   1   0   0   0   0   0   1   0   0   0   1]\n",
            " [  0   0   0 208   0   0   0   1   0   1  84   0   2  17]\n",
            " [  0   0   0   8   0   0   0   0   0   0   1   0   0   5]\n",
            " [  0   0   0  60   0   0   0   0   0   0   5   0  55   0]\n",
            " [  0   0   0  77   0   0   0   0   0   0  15   0   2  42]]\n"
          ]
        },
        {
          "output_type": "execute_result",
          "data": {
            "text/plain": [
              "0.6026261230131306"
            ]
          },
          "metadata": {},
          "execution_count": 82
        }
      ]
    },
    {
      "cell_type": "code",
      "source": [],
      "metadata": {
        "id": "OH7VSJTTEliJ"
      },
      "execution_count": null,
      "outputs": []
    }
  ]
}